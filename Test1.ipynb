{
 "cells": [
  {
   "cell_type": "code",
   "execution_count": 1,
   "id": "a1f3b647-0bf2-4500-9ea0-9e5cbec111d8",
   "metadata": {},
   "outputs": [],
   "source": [
    "import matplotlib.pyplot as plt\n",
    "import matplotlib.lines as lines\n",
    "import numpy as np\n",
    "import pandas as pd\n",
    "import seaborn as sns\n",
    "from sklearn.metrics import root_mean_squared_error\n",
    "import os, io\n",
    "import torch\n",
    "\n",
    "%matplotlib inline\n",
    "\n",
    "import movie_sim\n",
    "\n",
    "plt.rcParams.update({'figure.figsize': (12.0, 8.0)})\n",
    "plt.rcParams.update({'font.size': 14})"
   ]
  },
  {
   "cell_type": "code",
   "execution_count": 2,
   "id": "fc9d0437-a5c1-4339-9b41-6d5c4007dedb",
   "metadata": {},
   "outputs": [],
   "source": [
    "sample = pd.read_csv('train_umr.csv')"
   ]
  },
  {
   "cell_type": "code",
   "execution_count": 3,
   "id": "69f05b65-7e3f-4f94-8524-dcc209a58b80",
   "metadata": {},
   "outputs": [],
   "source": [
    "movies = pd.read_csv('movies_encoded.csv')"
   ]
  },
  {
   "cell_type": "code",
   "execution_count": 4,
   "id": "f140ee02-99f5-4a4a-8fcf-6ccd9fba263f",
   "metadata": {},
   "outputs": [],
   "source": [
    "movies.drop(columns=['Name'],inplace=True)"
   ]
  },
  {
   "cell_type": "code",
   "execution_count": 5,
   "id": "5fda4022-76f1-4e3f-8e82-1dd286050bc5",
   "metadata": {},
   "outputs": [],
   "source": [
    "from surprise import BaselineOnly\n",
    "from surprise import Dataset\n",
    "from surprise import Reader\n",
    "from surprise.model_selection.split import train_test_split\n",
    "from surprise.model_selection import cross_validate, GridSearchCV\n",
    "\n",
    "from surprise import KNNBasic, KNNWithMeans\n",
    "from surprise import SVDpp\n",
    "from surprise import SVD\n",
    "from surprise import NMF\n",
    "from surprise import accuracy"
   ]
  },
  {
   "cell_type": "code",
   "execution_count": 6,
   "id": "2c986cd2-9c64-428b-8cc3-3a69c0e5cdbc",
   "metadata": {},
   "outputs": [],
   "source": [
    "reader = Reader(rating_scale=(1,5))  #invoke reader instance of surprise library"
   ]
  },
  {
   "cell_type": "code",
   "execution_count": 7,
   "id": "de8d3a72-b58e-4b33-8de5-09c582f095ef",
   "metadata": {},
   "outputs": [],
   "source": [
    "algo=SVD(n_factors=32, reg_all=0.1,n_epochs=20)\n",
    "baseline=data=Dataset.load_from_df(sample,reader)"
   ]
  },
  {
   "cell_type": "code",
   "execution_count": 8,
   "id": "a001e694-2c1b-41fc-8808-ba2f429b1249",
   "metadata": {},
   "outputs": [
    {
     "name": "stdout",
     "output_type": "stream",
     "text": [
      "Evaluating RMSE of algorithm SVD on 5 split(s).\n",
      "\n",
      "                  Fold 1  Fold 2  Fold 3  Fold 4  Fold 5  Mean    Std     \n",
      "RMSE (testset)    0.9038  0.9021  0.9024  0.9021  0.9031  0.9027  0.0007  \n",
      "Fit time          83.10   80.27   73.19   73.59   85.17   79.06   4.89    \n",
      "Test time         22.06   18.75   17.63   20.75   19.67   19.77   1.54    \n"
     ]
    },
    {
     "data": {
      "text/plain": [
       "{'test_rmse': array([0.90383813, 0.90205166, 0.90238476, 0.90209612, 0.90311142]),\n",
       " 'fit_time': (83.0952684879303,\n",
       "  80.2717833518982,\n",
       "  73.19341015815735,\n",
       "  73.59276795387268,\n",
       "  85.16736674308777),\n",
       " 'test_time': (22.06394362449646,\n",
       "  18.75208067893982,\n",
       "  17.62871241569519,\n",
       "  20.747841596603394,\n",
       "  19.66888403892517)}"
      ]
     },
     "execution_count": 8,
     "metadata": {},
     "output_type": "execute_result"
    }
   ],
   "source": [
    "cross_validate(algo, baseline, measures=['RMSE'], cv=5, verbose=True) "
   ]
  },
  {
   "cell_type": "code",
   "execution_count": 9,
   "id": "f664116a-cb28-4682-8c1b-2586b437f1bb",
   "metadata": {},
   "outputs": [
    {
     "name": "stdout",
     "output_type": "stream",
     "text": [
      "317  retrieved movies for the user\n",
      "finding similar movies...\n",
      "304  similar movies found\n",
      "retrieving new data\n",
      "0  movies out of 304 done\n",
      "current new data entries: 0\n",
      "100  movies out of 304 done\n",
      "current new data entries: 340447\n",
      "200  movies out of 304 done\n",
      "current new data entries: 474978\n",
      "300  movies out of 304 done\n",
      "current new data entries: 474978\n"
     ]
    }
   ],
   "source": [
    "new_data=movie_sim.sample_new_data(sample,movies,712664)"
   ]
  },
  {
   "cell_type": "code",
   "execution_count": 10,
   "id": "3fe92089-5e15-4016-a535-33094f4c2d2e",
   "metadata": {},
   "outputs": [],
   "source": [
    "data=Dataset.load_from_df(new_data,reader) #load dataset into Surprise datastructure Dataset"
   ]
  },
  {
   "cell_type": "code",
   "execution_count": 42,
   "id": "9739be0e-5d1a-4e08-9dff-d516715be30c",
   "metadata": {},
   "outputs": [
    {
     "name": "stdout",
     "output_type": "stream",
     "text": [
      "Evaluating RMSE of algorithm SVD on 5 split(s).\n",
      "\n",
      "                  Fold 1  Fold 2  Fold 3  Fold 4  Fold 5  Mean    Std     \n",
      "RMSE (testset)    0.9413  0.9426  0.9401  0.9419  0.9395  0.9411  0.0012  \n",
      "Fit time          3.13    3.13    3.43    3.17    3.51    3.27    0.17    \n",
      "Test time         1.10    0.67    1.02    1.11    0.75    0.93    0.18    \n"
     ]
    },
    {
     "data": {
      "text/plain": [
       "{'test_rmse': array([0.9413179 , 0.9426125 , 0.94008239, 0.94194453, 0.93946011]),\n",
       " 'fit_time': (3.126126527786255,\n",
       "  3.1256372928619385,\n",
       "  3.43276309967041,\n",
       "  3.1681153774261475,\n",
       "  3.5126681327819824),\n",
       " 'test_time': (1.0958611965179443,\n",
       "  0.6731874942779541,\n",
       "  1.0245027542114258,\n",
       "  1.1063010692596436,\n",
       "  0.7513422966003418)}"
      ]
     },
     "execution_count": 42,
     "metadata": {},
     "output_type": "execute_result"
    }
   ],
   "source": [
    "algo = SVD(n_factors=22, reg_all=0.1,n_epochs=20)\n",
    "cross_validate(algo, data, measures=['RMSE'], cv=5, verbose=True) "
   ]
  },
  {
   "cell_type": "code",
   "execution_count": 12,
   "id": "55362c90-adfb-4e0b-96b1-2a0a86c78f59",
   "metadata": {},
   "outputs": [
    {
     "name": "stdout",
     "output_type": "stream",
     "text": [
      "Computing the cosine similarity matrix...\n",
      "Done computing similarity matrix.\n",
      "Computing the cosine similarity matrix...\n",
      "Done computing similarity matrix.\n",
      "Computing the cosine similarity matrix...\n",
      "Done computing similarity matrix.\n",
      "Computing the cosine similarity matrix...\n",
      "Done computing similarity matrix.\n",
      "Computing the cosine similarity matrix...\n",
      "Done computing similarity matrix.\n",
      "Evaluating RMSE of algorithm KNNBasic on 5 split(s).\n",
      "\n",
      "                  Fold 1  Fold 2  Fold 3  Fold 4  Fold 5  Mean    Std     \n",
      "RMSE (testset)    1.1181  1.1132  1.1100  1.1100  1.1148  1.1132  0.0031  \n",
      "Fit time          0.22    0.32    0.33    0.31    0.32    0.30    0.04    \n",
      "Test time         1.48    1.44    1.44    1.44    1.45    1.45    0.02    \n"
     ]
    },
    {
     "data": {
      "text/plain": [
       "{'test_rmse': array([1.11814598, 1.11322889, 1.1099607 , 1.11000707, 1.11484954]),\n",
       " 'fit_time': (0.2214035987854004,\n",
       "  0.32292747497558594,\n",
       "  0.3274238109588623,\n",
       "  0.31276512145996094,\n",
       "  0.3215632438659668),\n",
       " 'test_time': (1.4840407371520996,\n",
       "  1.4387507438659668,\n",
       "  1.4364845752716064,\n",
       "  1.4443776607513428,\n",
       "  1.450974464416504)}"
      ]
     },
     "execution_count": 12,
     "metadata": {},
     "output_type": "execute_result"
    }
   ],
   "source": [
    "sim_options = {'name': 'cosine',\n",
    "               'user_based': False  # compute  similarities between items\n",
    "               }\n",
    "algo = KNNBasic(sim_options=sim_options)\n",
    "# Run 5-fold cross-validation and print results\n",
    "cross_validate(algo, data, measures=['RMSE'], cv=5, verbose=True)"
   ]
  },
  {
   "cell_type": "code",
   "execution_count": 13,
   "id": "7df9ce0b-5095-42d4-a075-0c5d711bbe78",
   "metadata": {},
   "outputs": [
    {
     "name": "stdout",
     "output_type": "stream",
     "text": [
      "Evaluating RMSE of algorithm NMF on 5 split(s).\n",
      "\n",
      "                  Fold 1  Fold 2  Fold 3  Fold 4  Fold 5  Mean    Std     \n",
      "RMSE (testset)    1.1190  1.1045  1.1144  1.1181  1.1143  1.1140  0.0051  \n",
      "Fit time          14.23   14.21   14.74   14.84   14.93   14.59   0.31    \n",
      "Test time         1.00    0.98    1.06    0.99    0.75    0.96    0.11    \n"
     ]
    },
    {
     "data": {
      "text/plain": [
       "{'test_rmse': array([1.11896033, 1.1044911 , 1.11437511, 1.11807629, 1.11431621]),\n",
       " 'fit_time': (14.22623324394226,\n",
       "  14.21005654335022,\n",
       "  14.740297079086304,\n",
       "  14.835734128952026,\n",
       "  14.930388927459717),\n",
       " 'test_time': (0.996485710144043,\n",
       "  0.9840614795684814,\n",
       "  1.058833122253418,\n",
       "  0.9902048110961914,\n",
       "  0.7482039928436279)}"
      ]
     },
     "execution_count": 13,
     "metadata": {},
     "output_type": "execute_result"
    }
   ],
   "source": [
    "algo = NMF()\n",
    "# Run 5-fold cross-validation and print results\n",
    "cross_validate(algo, data, measures=['RMSE'], cv=5, verbose=True)"
   ]
  },
  {
   "cell_type": "code",
   "execution_count": 38,
   "id": "09386f29-6410-4659-a1a5-5862b7d70c19",
   "metadata": {},
   "outputs": [],
   "source": [
    "param_grid = {'n_factors': [16,17,18,19,20,21,22,23,24],\n",
    "              'reg_all': [0.1],\n",
    "              'n_epochs': [20]\n",
    "              }"
   ]
  },
  {
   "cell_type": "code",
   "execution_count": 39,
   "id": "b9edf506-3368-4496-9644-4eace8120195",
   "metadata": {},
   "outputs": [],
   "source": [
    "gs = GridSearchCV(SVD, param_grid, measures=['rmse'], cv=5) "
   ]
  },
  {
   "cell_type": "code",
   "execution_count": 40,
   "id": "7e97ab87-0fd1-40a7-a604-9ad552f8bc27",
   "metadata": {},
   "outputs": [],
   "source": [
    "gs.fit(data)"
   ]
  },
  {
   "cell_type": "code",
   "execution_count": 41,
   "id": "5267087e-c836-4281-ad5b-a8e9abc7ee1a",
   "metadata": {},
   "outputs": [
    {
     "name": "stdout",
     "output_type": "stream",
     "text": [
      "{'n_factors': 22, 'reg_all': 0.1, 'n_epochs': 20}\n"
     ]
    }
   ],
   "source": [
    "print(gs.best_params['rmse'])"
   ]
  },
  {
   "cell_type": "code",
   "execution_count": 18,
   "id": "25bfe4ac-bde3-4688-8b11-b1c46b43e79a",
   "metadata": {},
   "outputs": [],
   "source": [
    "param_grid = {'n_factors': [20,30,35,40,50],\n",
    "              'reg_all': [ 0.1],\n",
    "              'n_epochs': [20]\n",
    "              }"
   ]
  },
  {
   "cell_type": "code",
   "execution_count": 20,
   "id": "b4b98f15-8c76-4de7-a15e-723fb3ad54c4",
   "metadata": {},
   "outputs": [],
   "source": [
    "gs = GridSearchCV(SVDpp, param_grid, measures=['rmse'], cv=5) "
   ]
  },
  {
   "cell_type": "code",
   "execution_count": 21,
   "id": "1ee64e6f-d094-4c65-aa7e-fd9e6b5f6c86",
   "metadata": {},
   "outputs": [],
   "source": [
    "gs.fit(data)"
   ]
  },
  {
   "cell_type": "code",
   "execution_count": 22,
   "id": "15991773-1617-4216-99ea-5197d93a4180",
   "metadata": {},
   "outputs": [
    {
     "name": "stdout",
     "output_type": "stream",
     "text": [
      "{'n_factors': 30, 'reg_all': 0.1, 'n_epochs': 20}\n"
     ]
    }
   ],
   "source": [
    "print(gs.best_params['rmse'])"
   ]
  },
  {
   "cell_type": "code",
   "execution_count": 27,
   "id": "8463030f-42aa-4608-a84f-6db3247bf660",
   "metadata": {},
   "outputs": [],
   "source": [
    "param_grid = {'n_factors': [32,33,34,35,36,37,38],\n",
    "              'reg_all': [ 0.1],\n",
    "              'n_epochs': [20]\n",
    "              }"
   ]
  },
  {
   "cell_type": "code",
   "execution_count": 28,
   "id": "a7cf1939-20bc-4b88-8daf-bb5cb9feb3ce",
   "metadata": {},
   "outputs": [],
   "source": [
    "gs = GridSearchCV(SVDpp, param_grid, measures=['rmse'], cv=5) "
   ]
  },
  {
   "cell_type": "code",
   "execution_count": 29,
   "id": "e95eaeea-6123-4ddf-8e1a-55d4f8ec3679",
   "metadata": {},
   "outputs": [],
   "source": [
    "gs.fit(data)"
   ]
  },
  {
   "cell_type": "code",
   "execution_count": 30,
   "id": "1208e456-5092-498c-a5f1-d8d64ef18ba7",
   "metadata": {},
   "outputs": [
    {
     "name": "stdout",
     "output_type": "stream",
     "text": [
      "{'n_factors': 32, 'reg_all': 0.1, 'n_epochs': 20}\n"
     ]
    }
   ],
   "source": [
    "print(gs.best_params['rmse'])"
   ]
  },
  {
   "cell_type": "code",
   "execution_count": 31,
   "id": "1ef585cf-d13f-4efb-a9df-47a804639165",
   "metadata": {},
   "outputs": [
    {
     "name": "stdout",
     "output_type": "stream",
     "text": [
      "Evaluating RMSE of algorithm SVDpp on 5 split(s).\n",
      "\n",
      "                  Fold 1  Fold 2  Fold 3  Fold 4  Fold 5  Mean    Std     \n",
      "RMSE (testset)    0.9357  0.9420  0.9385  0.9388  0.9347  0.9379  0.0026  \n",
      "Fit time          9.11    8.95    9.04    8.83    8.88    8.96    0.10    \n",
      "Test time         2.47    2.00    1.99    2.28    2.44    2.23    0.21    \n"
     ]
    },
    {
     "data": {
      "text/plain": [
       "{'test_rmse': array([0.93571759, 0.94199013, 0.93847123, 0.93875542, 0.93467206]),\n",
       " 'fit_time': (9.110584259033203,\n",
       "  8.949052572250366,\n",
       "  9.038138151168823,\n",
       "  8.828859090805054,\n",
       "  8.88344120979309),\n",
       " 'test_time': (2.465672492980957,\n",
       "  1.998081922531128,\n",
       "  1.9874858856201172,\n",
       "  2.279963970184326,\n",
       "  2.440664291381836)}"
      ]
     },
     "execution_count": 31,
     "metadata": {},
     "output_type": "execute_result"
    }
   ],
   "source": [
    "algo = SVDpp(n_factors=32, reg_all=0.1,n_epochs=20)\n",
    "# Run 5-fold cross-validation and print results\n",
    "cross_validate(algo, data, measures=['RMSE'], cv=5, verbose=True)"
   ]
  },
  {
   "cell_type": "code",
   "execution_count": 32,
   "id": "2f446412-d325-455b-964e-b4dd708e6f5b",
   "metadata": {},
   "outputs": [
    {
     "name": "stdout",
     "output_type": "stream",
     "text": [
      "119  retrieved movies for the user\n",
      "finding similar movies...\n",
      "115  similar movies found\n",
      "retrieving new data\n",
      "0  movies out of 115 done\n",
      "current new data entries: 0\n",
      "100  movies out of 115 done\n",
      "current new data entries: 223699\n"
     ]
    }
   ],
   "source": [
    "new_data2=movie_sim.sample_new_data(sample,movies,6)"
   ]
  },
  {
   "cell_type": "code",
   "execution_count": 33,
   "id": "18643fce-7ce9-4d1f-a745-90805c3af483",
   "metadata": {},
   "outputs": [
    {
     "name": "stdout",
     "output_type": "stream",
     "text": [
      "Evaluating RMSE of algorithm SVD on 5 split(s).\n",
      "\n",
      "                  Fold 1  Fold 2  Fold 3  Fold 4  Fold 5  Mean    Std     \n",
      "RMSE (testset)    0.9762  0.9740  0.9745  0.9786  0.9721  0.9751  0.0022  \n",
      "Fit time          1.56    1.54    1.58    1.59    1.57    1.57    0.02    \n",
      "Test time         0.61    0.33    0.28    0.65    0.65    0.50    0.16    \n"
     ]
    },
    {
     "data": {
      "text/plain": [
       "{'test_rmse': array([0.97623876, 0.97398699, 0.97448653, 0.978643  , 0.97206172]),\n",
       " 'fit_time': (1.56135892868042,\n",
       "  1.535557746887207,\n",
       "  1.5756502151489258,\n",
       "  1.5887093544006348,\n",
       "  1.5720744132995605),\n",
       " 'test_time': (0.6052358150482178,\n",
       "  0.3299703598022461,\n",
       "  0.2841343879699707,\n",
       "  0.6450252532958984,\n",
       "  0.6453144550323486)}"
      ]
     },
     "execution_count": 33,
     "metadata": {},
     "output_type": "execute_result"
    }
   ],
   "source": [
    "data2=Dataset.load_from_df(new_data2,reader) \n",
    "algo = SVD(n_factors=32, reg_all=0.1,n_epochs=20)\n",
    "cross_validate(algo, data2, measures=['RMSE'], cv=5, verbose=True) "
   ]
  },
  {
   "cell_type": "code",
   "execution_count": null,
   "id": "a45c8fcb-ffd0-4865-a1cc-86fae509d48a",
   "metadata": {},
   "outputs": [],
   "source": []
  }
 ],
 "metadata": {
  "kernelspec": {
   "display_name": "Python 3 (ipykernel)",
   "language": "python",
   "name": "python3"
  },
  "language_info": {
   "codemirror_mode": {
    "name": "ipython",
    "version": 3
   },
   "file_extension": ".py",
   "mimetype": "text/x-python",
   "name": "python",
   "nbconvert_exporter": "python",
   "pygments_lexer": "ipython3",
   "version": "3.11.4"
  }
 },
 "nbformat": 4,
 "nbformat_minor": 5
}
