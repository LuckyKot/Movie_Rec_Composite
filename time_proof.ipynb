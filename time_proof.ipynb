{
 "cells": [
  {
   "cell_type": "code",
   "execution_count": 1,
   "id": "e8cb1049-26c6-4c1d-906c-f689d6a77e30",
   "metadata": {},
   "outputs": [],
   "source": [
    "import matplotlib.pyplot as plt\n",
    "import matplotlib.lines as lines\n",
    "import numpy as np\n",
    "import pandas as pd\n",
    "import seaborn as sns\n",
    "from sklearn.metrics import root_mean_squared_error\n",
    "import os, io\n",
    "import torch\n",
    "\n",
    "from surprise import Dataset\n",
    "from surprise import Reader\n",
    "from surprise import SVD\n",
    "\n",
    "%matplotlib inline\n",
    "\n",
    "import movie_sim\n",
    "\n",
    "plt.rcParams.update({'figure.figsize': (12.0, 8.0)})\n",
    "plt.rcParams.update({'font.size': 14})"
   ]
  },
  {
   "cell_type": "code",
   "execution_count": 2,
   "id": "3d82b85c-806b-4bf4-aecf-c3ff803a73b1",
   "metadata": {},
   "outputs": [],
   "source": [
    "#time for 10 random users\n",
    "import time\n",
    "start_time = time.time()"
   ]
  },
  {
   "cell_type": "code",
   "execution_count": 3,
   "id": "70306fed-1f38-477c-8595-8c4fdb9cb30a",
   "metadata": {},
   "outputs": [],
   "source": [
    "data = pd.read_csv('train_umr.csv')"
   ]
  },
  {
   "cell_type": "code",
   "execution_count": 4,
   "id": "0b15a322-db74-454a-ac8b-44f067ec4b2d",
   "metadata": {},
   "outputs": [],
   "source": [
    "movies_orig = pd.read_csv('movies_encoded.csv')"
   ]
  },
  {
   "cell_type": "code",
   "execution_count": 5,
   "id": "71d07329-0a60-4175-b5f8-b313af5f5ea2",
   "metadata": {},
   "outputs": [],
   "source": [
    "movies = movies_orig.loc[:, movies_orig.columns != 'Name']"
   ]
  },
  {
   "cell_type": "code",
   "execution_count": 6,
   "id": "f8e11436-353b-42b4-ac38-897ff69314bf",
   "metadata": {},
   "outputs": [],
   "source": [
    "reader = Reader(rating_scale=(1,5))\n",
    "algo = SVD(n_factors=22, reg_all=0.1,n_epochs=20)"
   ]
  },
  {
   "cell_type": "code",
   "execution_count": 7,
   "id": "17c838f3-863f-443f-a186-c7bf37319bcc",
   "metadata": {},
   "outputs": [
    {
     "name": "stdout",
     "output_type": "stream",
     "text": [
      "112  retrieved movies for the user\n",
      "finding similar movies...\n",
      "106  similar unwatched movies found\n",
      "retrieving new data\n",
      "0  movies out of 106 done\n",
      "current new data entries: 0\n",
      "100  movies out of 106 done\n",
      "current new data entries: 86522\n",
      "   User_ID Movie_ID    Rating                    Name\n",
      "0  1489261      825  4.092909     Bill Cosby: Himself\n",
      "1  1489261     3009  3.773588            Hellfighters\n",
      "2  1489261     1012  3.621184               13 Ghosts\n",
      "3  1489261      807  3.607711   The Mouse That Roared\n",
      "4  1489261     2992   3.60736             The Rundown\n",
      "5  1489261      408  3.490243              Nightbreed\n",
      "6  1489261     7406  3.462264           Thirteen Days\n",
      "7  1489261     7433  3.462264           Fallen Angels\n",
      "8  1489261     7789  3.462264  Leprechaun 4: In Space\n",
      "9  1489261     7807  3.462264             Off the Map\n",
      "185  retrieved movies for the user\n",
      "finding similar movies...\n",
      "166  similar unwatched movies found\n",
      "retrieving new data\n",
      "0  movies out of 166 done\n",
      "current new data entries: 0\n",
      "100  movies out of 166 done\n",
      "current new data entries: 187642\n",
      "   User_ID Movie_ID    Rating                                    Name\n",
      "0  1961159      825  4.117399                     Bill Cosby: Himself\n",
      "1  1961159     2144  4.051631  VeggieTales: Dave and the Giant Pickle\n",
      "2  1961159     2525  3.896535                      Sullivan's Travels\n",
      "3  1961159     1790  3.803321                               Born Free\n",
      "4  1961159     2015  3.778658                             Talk to Her\n",
      "5  1961159     2595  3.690907                           The Vanishing\n",
      "6  1961159     2209  3.651687                          On Golden Pond\n",
      "7  1961159     1012  3.621781                               13 Ghosts\n",
      "8  1961159      807  3.595617                   The Mouse That Roared\n",
      "9  1961159     1134  3.550403                            Empire Falls\n",
      "56  retrieved movies for the user\n",
      "finding similar movies...\n",
      "54  similar unwatched movies found\n",
      "retrieving new data\n",
      "0  movies out of 54 done\n",
      "current new data entries: 0\n",
      "   User_ID Movie_ID    Rating                   Name\n",
      "0  2173901     2209  3.656644         On Golden Pond\n",
      "1  2173901     2595  3.630985          The Vanishing\n",
      "2  2173901     2992  3.626202            The Rundown\n",
      "3  2173901     1682  3.614973         Absolute Power\n",
      "4  2173901       37  3.540556  Zatoichi's Conspiracy\n",
      "5  2173901     6200  3.540556        Those Calloways\n",
      "6  2173901     6282  3.540556                 Madman\n",
      "7  2173901     6473  3.540556                Cherish\n",
      "8  2173901     6843  3.540556              True Love\n",
      "9  2173901     7107  3.540556   Catnapped! The Movie\n",
      "73  retrieved movies for the user\n",
      "finding similar movies...\n",
      "71  similar unwatched movies found\n",
      "retrieving new data\n",
      "0  movies out of 71 done\n",
      "current new data entries: 0\n",
      "  User_ID Movie_ID    Rating                  Name\n",
      "0   57622      281  3.799779            The Legend\n",
      "1   57622     4155  3.591522             East/West\n",
      "2   57622     1012  3.577608             13 Ghosts\n",
      "3   57622       29  3.332139               Boycott\n",
      "4   57622     6659  3.332139            Issues 101\n",
      "5   57622     7419  3.332139  The Boys from Brazil\n",
      "6   57622     7406  3.332139         Thirteen Days\n",
      "7   57622     7387  3.332139             Repulsion\n",
      "8   57622     7107  3.332139  Catnapped! The Movie\n",
      "50  retrieved movies for the user\n",
      "finding similar movies...\n",
      "48  similar unwatched movies found\n",
      "retrieving new data\n",
      "0  movies out of 48 done\n",
      "current new data entries: 0\n",
      "   User_ID Movie_ID    Rating                              Name\n",
      "0  1450376     4135  3.846273                    The King and I\n",
      "1  1450376     3009  3.739117                      Hellfighters\n",
      "2  1450376      843   3.72383                    Mansfield Park\n",
      "3  1450376     2595  3.643882                     The Vanishing\n",
      "4  1450376     1012  3.636694                         13 Ghosts\n",
      "5  1450376      327  3.598658              Storefront Hitchcock\n",
      "6  1450376     6663  3.598658  Latin Kings: A Street Gang Story\n",
      "7  1450376     6703  3.598658          In the Cold of the Night\n",
      "92  retrieved movies for the user\n",
      "finding similar movies...\n",
      "88  similar unwatched movies found\n",
      "retrieving new data\n",
      "0  movies out of 88 done\n",
      "current new data entries: 0\n",
      "  User_ID Movie_ID    Rating                   Name\n",
      "0  612246      281  3.805977             The Legend\n",
      "1  612246     3009  3.760978           Hellfighters\n",
      "2  612246     3833  3.743508           Dark Victory\n",
      "3  612246     1012  3.612596              13 Ghosts\n",
      "4  612246      807  3.605685  The Mouse That Roared\n",
      "5  612246     2077  3.491235      This Is My Father\n",
      "6  612246     8120  3.447055          Promised Land\n",
      "67  retrieved movies for the user\n",
      "finding similar movies...\n",
      "65  similar unwatched movies found\n",
      "retrieving new data\n",
      "0  movies out of 65 done\n",
      "current new data entries: 0\n",
      "   User_ID Movie_ID    Rating                      Name\n",
      "0  1057859      825  4.102542       Bill Cosby: Himself\n",
      "1  1057859     2015  3.799861               Talk to Her\n",
      "2  1057859     2209  3.656642            On Golden Pond\n",
      "3  1057859     1012  3.607811                 13 Ghosts\n",
      "4  1057859     6703  3.598457  In the Cold of the Night\n",
      "5  1057859     7807  3.598457               Off the Map\n",
      "6  1057859     7435  3.598457            Less Than Zero\n",
      "7  1057859     7107  3.598457      Catnapped! The Movie\n",
      "51  retrieved movies for the user\n",
      "finding similar movies...\n",
      "48  similar unwatched movies found\n",
      "retrieving new data\n",
      "0  movies out of 48 done\n",
      "current new data entries: 0\n",
      "  User_ID Movie_ID    Rating                  Name\n",
      "0  803696     2209  3.614943        On Golden Pond\n",
      "1  803696     2304  3.304028  Great Balls of Fire!\n",
      "2  803696     6683  3.298859          Ginger Snaps\n",
      "3  803696     6843  3.298859             True Love\n",
      "4  803696     6899  3.298859          Haiku Tunnel\n",
      "5  803696     6976  3.298859            Shenandoah\n",
      "6  803696     7107  3.298859  Catnapped! The Movie\n",
      "7  803696     8134  3.298859   Deacons for Defense\n",
      "56  retrieved movies for the user\n",
      "finding similar movies...\n",
      "53  similar unwatched movies found\n",
      "retrieving new data\n",
      "0  movies out of 53 done\n",
      "current new data entries: 0\n",
      "  User_ID Movie_ID    Rating                       Name\n",
      "0  693675     4345  3.809585      Bowling for Columbine\n",
      "1  693675     1744  3.734342          Beverly Hills Cop\n",
      "2  693675     2992  3.606168                The Rundown\n",
      "3  693675     6438  3.583748  The Man in the White Suit\n",
      "4  693675     7107  3.583748       Catnapped! The Movie\n",
      "136  retrieved movies for the user\n",
      "finding similar movies...\n",
      "128  similar unwatched movies found\n",
      "retrieving new data\n",
      "0  movies out of 128 done\n",
      "current new data entries: 0\n",
      "100  movies out of 128 done\n",
      "current new data entries: 249858\n",
      "   User_ID Movie_ID    Rating                      Name\n",
      "0  1538160      825  4.026115       Bill Cosby: Himself\n",
      "1  1538160     2326  3.791568       The Laramie Project\n",
      "2  1538160     3216  3.773428  Children of a Lesser God\n",
      "3  1538160     3009  3.718194              Hellfighters\n",
      "4  1538160     1744   3.70337         Beverly Hills Cop\n",
      "5  1538160     1012  3.639741                 13 Ghosts\n",
      "6  1538160      705   3.57203              Major League\n",
      "7  1538160     2139  3.517687        The Color of Money\n",
      "8  1538160     6999   3.42944                 Bongwater\n",
      "9  1538160     7051   3.42944            MacArthur Park\n"
     ]
    }
   ],
   "source": [
    "import random\n",
    "for i in range(10):\n",
    "    cur_usr = random.choice(data.User_ID.unique())\n",
    "    train,test=movie_sim.sample_new_data(data,movies,cur_usr)\n",
    "    train=Dataset.load_from_df(train,reader)\n",
    "    train=train.build_full_trainset()\n",
    "    algo.fit(train)\n",
    "    for i in range(0,len(test)):\n",
    "        test.loc[i,\"Rating\"]= algo.test([test.loc[i].to_list()])[0].est\n",
    "    rec=test.sort_values(by='Rating',ascending=False).head(10)\n",
    "    print(pd.merge(rec,movies_orig[['Movie_ID','Name']],on='Movie_ID'))"
   ]
  },
  {
   "cell_type": "code",
   "execution_count": null,
   "id": "c87c3aa4-8912-49f3-ab5b-48d516c8bc24",
   "metadata": {},
   "outputs": [],
   "source": []
  },
  {
   "cell_type": "code",
   "execution_count": 8,
   "id": "2fad39d4-a2aa-4cba-9595-e21143ded9a3",
   "metadata": {},
   "outputs": [
    {
     "name": "stdout",
     "output_type": "stream",
     "text": [
      "execution time:  84.01486992835999\n"
     ]
    }
   ],
   "source": [
    "end_time=time.time()\n",
    "print(\"execution time: \", (end_time - start_time))"
   ]
  },
  {
   "cell_type": "code",
   "execution_count": null,
   "id": "a7a8df2d-498b-4780-9182-a2bb566485a9",
   "metadata": {},
   "outputs": [],
   "source": [
    "#time for one random user"
   ]
  },
  {
   "cell_type": "code",
   "execution_count": 9,
   "id": "81d1d0e0-9f4b-4667-87e7-d786b4d4cded",
   "metadata": {},
   "outputs": [],
   "source": [
    "start_time = time.time()"
   ]
  },
  {
   "cell_type": "code",
   "execution_count": 10,
   "id": "514d70dc-f16b-4d79-ac18-09068d1b0667",
   "metadata": {},
   "outputs": [
    {
     "name": "stdout",
     "output_type": "stream",
     "text": [
      "48  retrieved movies for the user\n",
      "finding similar movies...\n",
      "46  similar unwatched movies found\n",
      "retrieving new data\n",
      "0  movies out of 46 done\n",
      "current new data entries: 0\n",
      "  User_ID Movie_ID    Rating                 Name\n",
      "0  218161      825  4.031314  Bill Cosby: Himself\n",
      "1  218161     3009  3.747881         Hellfighters\n",
      "2  218161      483   3.43087          Rush Hour 2\n",
      "3  218161      134  3.411185          Spirit Lost\n",
      "4  218161     7406  3.411185        Thirteen Days\n",
      "5  218161     7488  3.411185         Love Letters\n",
      "6  218161     7807  3.411185          Off the Map\n"
     ]
    }
   ],
   "source": [
    "for i in range(1):\n",
    "    cur_usr = random.choice(data.User_ID.unique())\n",
    "    train,test=movie_sim.sample_new_data(data,movies,cur_usr)\n",
    "    train=Dataset.load_from_df(train,reader)\n",
    "    train=train.build_full_trainset()\n",
    "    algo.fit(train)\n",
    "    for i in range(0,len(test)):\n",
    "        test.loc[i,\"Rating\"]= algo.test([test.loc[i].to_list()])[0].est\n",
    "    rec=test.sort_values(by='Rating',ascending=False).head(10)\n",
    "    print(pd.merge(rec,movies_orig[['Movie_ID','Name']],on='Movie_ID'))"
   ]
  },
  {
   "cell_type": "code",
   "execution_count": 11,
   "id": "a172a848-cdf6-4c78-8b49-341689609285",
   "metadata": {},
   "outputs": [
    {
     "name": "stdout",
     "output_type": "stream",
     "text": [
      "execution time:  5.19694185256958\n"
     ]
    }
   ],
   "source": [
    "end_time=time.time()\n",
    "print(\"execution time: \", (end_time - start_time))"
   ]
  },
  {
   "cell_type": "code",
   "execution_count": null,
   "id": "96710fa0-f46e-4f30-954c-dae62cf540e6",
   "metadata": {},
   "outputs": [],
   "source": []
  }
 ],
 "metadata": {
  "kernelspec": {
   "display_name": "Python 3 (ipykernel)",
   "language": "python",
   "name": "python3"
  },
  "language_info": {
   "codemirror_mode": {
    "name": "ipython",
    "version": 3
   },
   "file_extension": ".py",
   "mimetype": "text/x-python",
   "name": "python",
   "nbconvert_exporter": "python",
   "pygments_lexer": "ipython3",
   "version": "3.11.4"
  }
 },
 "nbformat": 4,
 "nbformat_minor": 5
}
