{
 "cells": [
  {
   "cell_type": "code",
   "execution_count": 1,
   "id": "49425d4b-bf77-4e57-ab8e-f07a0ce4da05",
   "metadata": {},
   "outputs": [],
   "source": [
    "import matplotlib.pyplot as plt\n",
    "import matplotlib.lines as lines\n",
    "import numpy as np\n",
    "import pandas as pd\n",
    "import seaborn as sns\n",
    "from sklearn.metrics import root_mean_squared_error\n",
    "import os, io\n",
    "\n",
    "from surprise import BaselineOnly\n",
    "from surprise import Dataset\n",
    "from surprise import Reader\n",
    "\n",
    "from surprise import SVD\n",
    "\n",
    "\n",
    "%matplotlib inline\n",
    "\n",
    "\n",
    "plt.rcParams.update({'figure.figsize': (12.0, 8.0)})\n",
    "plt.rcParams.update({'font.size': 14})"
   ]
  },
  {
   "cell_type": "code",
   "execution_count": 7,
   "id": "ca3c73c1-8071-42d5-b1c2-c3a0c6fc05cf",
   "metadata": {},
   "outputs": [],
   "source": [
    "#calculating SVD for the entire data and without taking features into account"
   ]
  },
  {
   "cell_type": "code",
   "execution_count": 2,
   "id": "c2ca10e2-f5ca-4a4f-ad8d-a8e5810226b1",
   "metadata": {},
   "outputs": [],
   "source": [
    "import time\n",
    "start_time = time.time()"
   ]
  },
  {
   "cell_type": "code",
   "execution_count": 3,
   "id": "7ad8daf9-6d8b-4a48-b458-943f5654ab39",
   "metadata": {},
   "outputs": [],
   "source": [
    "sample = pd.read_csv('train_umr.csv')"
   ]
  },
  {
   "cell_type": "code",
   "execution_count": 4,
   "id": "35d130c4-7519-4662-8975-e039464cd5e6",
   "metadata": {},
   "outputs": [],
   "source": [
    "reader = Reader(rating_scale=(1,5))  #invoke reader instance of surprise library"
   ]
  },
  {
   "cell_type": "code",
   "execution_count": 5,
   "id": "21d0ff81-5f6c-4109-aea3-3f42a550828c",
   "metadata": {},
   "outputs": [
    {
     "data": {
      "text/plain": [
       "<surprise.prediction_algorithms.matrix_factorization.SVD at 0x220c23e5ad0>"
      ]
     },
     "execution_count": 5,
     "metadata": {},
     "output_type": "execute_result"
    }
   ],
   "source": [
    "algo=SVD(n_factors=5, reg_all=0.1,n_epochs=20)\n",
    "baseline=data=Dataset.load_from_df(sample,reader)\n",
    "baseline=baseline.build_full_trainset()\n",
    "algo.fit(baseline)"
   ]
  },
  {
   "cell_type": "code",
   "execution_count": 6,
   "id": "3fcb4c08-e69b-4408-9dc9-cd3e2b52405c",
   "metadata": {},
   "outputs": [
    {
     "name": "stdout",
     "output_type": "stream",
     "text": [
      "execution time:  116.41132998466492\n"
     ]
    }
   ],
   "source": [
    "end_time=time.time()\n",
    "print(\"execution time: \", (end_time - start_time))"
   ]
  },
  {
   "cell_type": "code",
   "execution_count": null,
   "id": "0f0ffb63-4285-438b-b264-8bac9e4febb3",
   "metadata": {},
   "outputs": [],
   "source": []
  }
 ],
 "metadata": {
  "kernelspec": {
   "display_name": "Python 3 (ipykernel)",
   "language": "python",
   "name": "python3"
  },
  "language_info": {
   "codemirror_mode": {
    "name": "ipython",
    "version": 3
   },
   "file_extension": ".py",
   "mimetype": "text/x-python",
   "name": "python",
   "nbconvert_exporter": "python",
   "pygments_lexer": "ipython3",
   "version": "3.11.4"
  }
 },
 "nbformat": 4,
 "nbformat_minor": 5
}
