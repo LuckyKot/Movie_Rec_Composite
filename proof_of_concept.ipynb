{
 "cells": [
  {
   "cell_type": "code",
   "execution_count": 1,
   "id": "b7189d56-5f40-42f0-a4dd-174d2b69cfe2",
   "metadata": {},
   "outputs": [],
   "source": [
    "import matplotlib.pyplot as plt\n",
    "import matplotlib.lines as lines\n",
    "import numpy as np\n",
    "import pandas as pd\n",
    "import seaborn as sns\n",
    "from sklearn.metrics import root_mean_squared_error\n",
    "import os, io\n",
    "import torch\n",
    "\n",
    "%matplotlib inline\n",
    "\n",
    "import movie_sim\n",
    "\n",
    "plt.rcParams.update({'figure.figsize': (12.0, 8.0)})\n",
    "plt.rcParams.update({'font.size': 14})"
   ]
  },
  {
   "cell_type": "code",
   "execution_count": 2,
   "id": "016b70ce-56fc-46f3-8c9b-e4ebabd54fdf",
   "metadata": {},
   "outputs": [],
   "source": [
    "data = pd.read_csv('train_umr.csv')"
   ]
  },
  {
   "cell_type": "code",
   "execution_count": 3,
   "id": "0831ab9b-1af5-4ce1-9e26-e12f5b09cd3a",
   "metadata": {},
   "outputs": [],
   "source": [
    "movies_orig = pd.read_csv('movies_encoded.csv')"
   ]
  },
  {
   "cell_type": "code",
   "execution_count": 4,
   "id": "49faccae-e18b-44df-96f7-c02302667f5b",
   "metadata": {},
   "outputs": [],
   "source": [
    "movies = movies_orig.loc[:, movies_orig.columns != 'Name']"
   ]
  },
  {
   "cell_type": "code",
   "execution_count": 5,
   "id": "914b0ad2-b1e7-4642-8e0f-2244481a806a",
   "metadata": {},
   "outputs": [],
   "source": [
    "from surprise import Dataset\n",
    "from surprise import Reader\n",
    "from surprise import SVD"
   ]
  },
  {
   "cell_type": "code",
   "execution_count": 6,
   "id": "9c5b0ead-fe47-42eb-8fd6-d0baba71ff8f",
   "metadata": {},
   "outputs": [],
   "source": [
    "reader = Reader(rating_scale=(1,5))"
   ]
  },
  {
   "cell_type": "code",
   "execution_count": 7,
   "id": "80663916-7f32-44e5-b656-06bcfbd018a5",
   "metadata": {},
   "outputs": [
    {
     "name": "stdout",
     "output_type": "stream",
     "text": [
      "317  retrieved movies for the user\n",
      "finding similar movies...\n",
      "291  similar unwatched movies found\n",
      "retrieving new data\n",
      "0  movies out of 291 done\n",
      "current new data entries: 0\n",
      "100  movies out of 291 done\n",
      "current new data entries: 161502\n",
      "200  movies out of 291 done\n",
      "current new data entries: 206294\n"
     ]
    }
   ],
   "source": [
    "train,test=movie_sim.sample_new_data(data,movies,712664)"
   ]
  },
  {
   "cell_type": "code",
   "execution_count": 8,
   "id": "9358e06f-a913-4634-a4dc-3ced9e087ffe",
   "metadata": {},
   "outputs": [],
   "source": [
    "algo = SVD(n_factors=22, reg_all=0.1,n_epochs=20)"
   ]
  },
  {
   "cell_type": "code",
   "execution_count": 9,
   "id": "0cc489b7-932f-45d0-9e86-b1dda2800633",
   "metadata": {},
   "outputs": [],
   "source": [
    "train=data=Dataset.load_from_df(train,reader)"
   ]
  },
  {
   "cell_type": "code",
   "execution_count": 10,
   "id": "69b99a78-350a-4e13-aa07-4eb72c7ec393",
   "metadata": {},
   "outputs": [],
   "source": [
    "train=train.build_full_trainset()"
   ]
  },
  {
   "cell_type": "code",
   "execution_count": 11,
   "id": "10693ac1-7386-441d-9480-44c0f9379b13",
   "metadata": {},
   "outputs": [
    {
     "data": {
      "text/plain": [
       "<surprise.prediction_algorithms.matrix_factorization.SVD at 0x23200d84950>"
      ]
     },
     "execution_count": 11,
     "metadata": {},
     "output_type": "execute_result"
    }
   ],
   "source": [
    "algo.fit(train)"
   ]
  },
  {
   "cell_type": "code",
   "execution_count": 12,
   "id": "c5e71590-d7cd-4bbf-a556-2fec1cdd0ec3",
   "metadata": {},
   "outputs": [],
   "source": [
    "for i in range(0,len(test)):\n",
    "    test.loc[i,\"Rating\"]= algo.test([test.loc[i].to_list()])[0].est"
   ]
  },
  {
   "cell_type": "code",
   "execution_count": 13,
   "id": "810c27d5-357f-4cfe-bdc6-e83334e71109",
   "metadata": {},
   "outputs": [],
   "source": [
    "rec=test.sort_values(by='Rating',ascending=False).head(10)"
   ]
  },
  {
   "cell_type": "code",
   "execution_count": 14,
   "id": "9f496809-68f2-4373-b18a-9c28cdb71bc6",
   "metadata": {},
   "outputs": [
    {
     "data": {
      "text/html": [
       "<div>\n",
       "<style scoped>\n",
       "    .dataframe tbody tr th:only-of-type {\n",
       "        vertical-align: middle;\n",
       "    }\n",
       "\n",
       "    .dataframe tbody tr th {\n",
       "        vertical-align: top;\n",
       "    }\n",
       "\n",
       "    .dataframe thead th {\n",
       "        text-align: right;\n",
       "    }\n",
       "</style>\n",
       "<table border=\"1\" class=\"dataframe\">\n",
       "  <thead>\n",
       "    <tr style=\"text-align: right;\">\n",
       "      <th></th>\n",
       "      <th>User_ID</th>\n",
       "      <th>Movie_ID</th>\n",
       "      <th>Rating</th>\n",
       "    </tr>\n",
       "  </thead>\n",
       "  <tbody>\n",
       "    <tr>\n",
       "      <th>18</th>\n",
       "      <td>712664</td>\n",
       "      <td>825</td>\n",
       "      <td>4.114617</td>\n",
       "    </tr>\n",
       "    <tr>\n",
       "      <th>63</th>\n",
       "      <td>712664</td>\n",
       "      <td>2144</td>\n",
       "      <td>4.095586</td>\n",
       "    </tr>\n",
       "    <tr>\n",
       "      <th>69</th>\n",
       "      <td>712664</td>\n",
       "      <td>2371</td>\n",
       "      <td>4.073092</td>\n",
       "    </tr>\n",
       "    <tr>\n",
       "      <th>96</th>\n",
       "      <td>712664</td>\n",
       "      <td>3276</td>\n",
       "      <td>3.947545</td>\n",
       "    </tr>\n",
       "    <tr>\n",
       "      <th>118</th>\n",
       "      <td>712664</td>\n",
       "      <td>4135</td>\n",
       "      <td>3.894739</td>\n",
       "    </tr>\n",
       "    <tr>\n",
       "      <th>9</th>\n",
       "      <td>712664</td>\n",
       "      <td>281</td>\n",
       "      <td>3.823216</td>\n",
       "    </tr>\n",
       "    <tr>\n",
       "      <th>68</th>\n",
       "      <td>712664</td>\n",
       "      <td>2326</td>\n",
       "      <td>3.81596</td>\n",
       "    </tr>\n",
       "    <tr>\n",
       "      <th>58</th>\n",
       "      <td>712664</td>\n",
       "      <td>2015</td>\n",
       "      <td>3.812903</td>\n",
       "    </tr>\n",
       "    <tr>\n",
       "      <th>74</th>\n",
       "      <td>712664</td>\n",
       "      <td>2525</td>\n",
       "      <td>3.771978</td>\n",
       "    </tr>\n",
       "    <tr>\n",
       "      <th>112</th>\n",
       "      <td>712664</td>\n",
       "      <td>3826</td>\n",
       "      <td>3.740573</td>\n",
       "    </tr>\n",
       "  </tbody>\n",
       "</table>\n",
       "</div>"
      ],
      "text/plain": [
       "    User_ID Movie_ID    Rating\n",
       "18   712664      825  4.114617\n",
       "63   712664     2144  4.095586\n",
       "69   712664     2371  4.073092\n",
       "96   712664     3276  3.947545\n",
       "118  712664     4135  3.894739\n",
       "9    712664      281  3.823216\n",
       "68   712664     2326   3.81596\n",
       "58   712664     2015  3.812903\n",
       "74   712664     2525  3.771978\n",
       "112  712664     3826  3.740573"
      ]
     },
     "execution_count": 14,
     "metadata": {},
     "output_type": "execute_result"
    }
   ],
   "source": [
    "rec"
   ]
  },
  {
   "cell_type": "code",
   "execution_count": 15,
   "id": "41b87428-91bd-4fb7-bd76-ba42c14fa25d",
   "metadata": {},
   "outputs": [
    {
     "data": {
      "text/html": [
       "<div>\n",
       "<style scoped>\n",
       "    .dataframe tbody tr th:only-of-type {\n",
       "        vertical-align: middle;\n",
       "    }\n",
       "\n",
       "    .dataframe tbody tr th {\n",
       "        vertical-align: top;\n",
       "    }\n",
       "\n",
       "    .dataframe thead th {\n",
       "        text-align: right;\n",
       "    }\n",
       "</style>\n",
       "<table border=\"1\" class=\"dataframe\">\n",
       "  <thead>\n",
       "    <tr style=\"text-align: right;\">\n",
       "      <th></th>\n",
       "      <th>User_ID</th>\n",
       "      <th>Movie_ID</th>\n",
       "      <th>Rating</th>\n",
       "      <th>Name</th>\n",
       "    </tr>\n",
       "  </thead>\n",
       "  <tbody>\n",
       "    <tr>\n",
       "      <th>0</th>\n",
       "      <td>712664</td>\n",
       "      <td>825</td>\n",
       "      <td>4.114617</td>\n",
       "      <td>Bill Cosby: Himself</td>\n",
       "    </tr>\n",
       "    <tr>\n",
       "      <th>1</th>\n",
       "      <td>712664</td>\n",
       "      <td>2144</td>\n",
       "      <td>4.095586</td>\n",
       "      <td>VeggieTales: Dave and the Giant Pickle</td>\n",
       "    </tr>\n",
       "    <tr>\n",
       "      <th>2</th>\n",
       "      <td>712664</td>\n",
       "      <td>2371</td>\n",
       "      <td>4.073092</td>\n",
       "      <td>To Catch a Thief</td>\n",
       "    </tr>\n",
       "    <tr>\n",
       "      <th>3</th>\n",
       "      <td>712664</td>\n",
       "      <td>3276</td>\n",
       "      <td>3.947545</td>\n",
       "      <td>Cry Freedom</td>\n",
       "    </tr>\n",
       "    <tr>\n",
       "      <th>4</th>\n",
       "      <td>712664</td>\n",
       "      <td>4135</td>\n",
       "      <td>3.894739</td>\n",
       "      <td>The King and I</td>\n",
       "    </tr>\n",
       "    <tr>\n",
       "      <th>5</th>\n",
       "      <td>712664</td>\n",
       "      <td>281</td>\n",
       "      <td>3.823216</td>\n",
       "      <td>The Legend</td>\n",
       "    </tr>\n",
       "    <tr>\n",
       "      <th>6</th>\n",
       "      <td>712664</td>\n",
       "      <td>2326</td>\n",
       "      <td>3.81596</td>\n",
       "      <td>The Laramie Project</td>\n",
       "    </tr>\n",
       "    <tr>\n",
       "      <th>7</th>\n",
       "      <td>712664</td>\n",
       "      <td>2015</td>\n",
       "      <td>3.812903</td>\n",
       "      <td>Talk to Her</td>\n",
       "    </tr>\n",
       "    <tr>\n",
       "      <th>8</th>\n",
       "      <td>712664</td>\n",
       "      <td>2525</td>\n",
       "      <td>3.771978</td>\n",
       "      <td>Sullivan's Travels</td>\n",
       "    </tr>\n",
       "    <tr>\n",
       "      <th>9</th>\n",
       "      <td>712664</td>\n",
       "      <td>3826</td>\n",
       "      <td>3.740573</td>\n",
       "      <td>Music of the Heart</td>\n",
       "    </tr>\n",
       "  </tbody>\n",
       "</table>\n",
       "</div>"
      ],
      "text/plain": [
       "  User_ID Movie_ID    Rating                                    Name\n",
       "0  712664      825  4.114617                     Bill Cosby: Himself\n",
       "1  712664     2144  4.095586  VeggieTales: Dave and the Giant Pickle\n",
       "2  712664     2371  4.073092                        To Catch a Thief\n",
       "3  712664     3276  3.947545                             Cry Freedom\n",
       "4  712664     4135  3.894739                          The King and I\n",
       "5  712664      281  3.823216                              The Legend\n",
       "6  712664     2326   3.81596                     The Laramie Project\n",
       "7  712664     2015  3.812903                             Talk to Her\n",
       "8  712664     2525  3.771978                      Sullivan's Travels\n",
       "9  712664     3826  3.740573                      Music of the Heart"
      ]
     },
     "execution_count": 15,
     "metadata": {},
     "output_type": "execute_result"
    }
   ],
   "source": [
    "pd.merge(rec,movies_orig[['Movie_ID','Name']],on='Movie_ID')"
   ]
  },
  {
   "cell_type": "code",
   "execution_count": null,
   "id": "362228f0-144b-44b4-b789-4d249e781a8e",
   "metadata": {},
   "outputs": [],
   "source": []
  }
 ],
 "metadata": {
  "kernelspec": {
   "display_name": "Python 3 (ipykernel)",
   "language": "python",
   "name": "python3"
  },
  "language_info": {
   "codemirror_mode": {
    "name": "ipython",
    "version": 3
   },
   "file_extension": ".py",
   "mimetype": "text/x-python",
   "name": "python",
   "nbconvert_exporter": "python",
   "pygments_lexer": "ipython3",
   "version": "3.11.4"
  }
 },
 "nbformat": 4,
 "nbformat_minor": 5
}
