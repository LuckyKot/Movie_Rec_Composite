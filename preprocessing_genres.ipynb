{
 "cells": [
  {
   "cell_type": "code",
   "execution_count": 1,
   "metadata": {
    "id": "ASA7d7t10ol-"
   },
   "outputs": [],
   "source": [
    "import matplotlib.pyplot as plt\n",
    "import matplotlib.lines as lines\n",
    "import numpy as np\n",
    "import pandas as pd\n",
    "import seaborn as sns\n",
    "from sklearn.metrics import root_mean_squared_error\n",
    "import os, io\n",
    "\n",
    "%matplotlib inline\n",
    "\n",
    "\n",
    "plt.rcParams.update({'figure.figsize': (12.0, 8.0)})\n",
    "plt.rcParams.update({'font.size': 14})"
   ]
  },
  {
   "cell_type": "code",
   "execution_count": 2,
   "metadata": {
    "colab": {
     "base_uri": "https://localhost:8080/"
    },
    "id": "dgcyvDM60xv7",
    "outputId": "6f643d8b-35c7-4eda-dc48-8b63190a5bfb"
   },
   "outputs": [],
   "source": [
    "#from google.colab import drive\n",
    "#drive.mount('/content/drive/')"
   ]
  },
  {
   "cell_type": "code",
   "execution_count": 3,
   "metadata": {
    "colab": {
     "base_uri": "https://localhost:8080/"
    },
    "id": "3bC_hCnO00SZ",
    "outputId": "72601ad9-f069-4640-bb01-938f1dde073d"
   },
   "outputs": [
    {
     "name": "stderr",
     "output_type": "stream",
     "text": [
      "C:\\Users\\abdik\\AppData\\Local\\Temp\\ipykernel_33052\\3763468324.py:1: DtypeWarning: Columns (7) have mixed types. Specify dtype option on import or set low_memory=False.\n",
      "  train = pd.read_csv(\"train2.csv\")\n"
     ]
    }
   ],
   "source": [
    "train = pd.read_csv(\"train2.csv\")"
   ]
  },
  {
   "cell_type": "code",
   "execution_count": 4,
   "metadata": {
    "colab": {
     "base_uri": "https://localhost:8080/"
    },
    "id": "LlC7G_cd05tR",
    "outputId": "463ad791-7e9f-4856-ae8e-fb5d20764bdb"
   },
   "outputs": [
    {
     "name": "stdout",
     "output_type": "stream",
     "text": [
      "<class 'pandas.core.frame.DataFrame'>\n",
      "RangeIndex: 20627688 entries, 0 to 20627687\n",
      "Data columns (total 16 columns):\n",
      " #   Column          Dtype  \n",
      "---  ------          -----  \n",
      " 0   User_ID         int64  \n",
      " 1   Rating          int64  \n",
      " 2   Movie_ID        int64  \n",
      " 3   Year            float64\n",
      " 4   isAdult         bool   \n",
      " 5   startYear       float64\n",
      " 6   runtimeMinutes  float64\n",
      " 7   genres          object \n",
      " 8   movie           bool   \n",
      " 9   short           bool   \n",
      " 10  tvEpisode       bool   \n",
      " 11  tvMiniSeries    bool   \n",
      " 12  tvMovie         bool   \n",
      " 13  tvSeries        bool   \n",
      " 14  tvSpecial       bool   \n",
      " 15  video           bool   \n",
      "dtypes: bool(9), float64(3), int64(3), object(1)\n",
      "memory usage: 1.2+ GB\n"
     ]
    }
   ],
   "source": [
    "train.info()"
   ]
  },
  {
   "cell_type": "code",
   "execution_count": 5,
   "metadata": {
    "id": "B-QdDub58qra"
   },
   "outputs": [],
   "source": [
    "genres_encoded = train.genres.str.get_dummies(sep=',')"
   ]
  },
  {
   "cell_type": "code",
   "execution_count": 6,
   "metadata": {
    "id": "3O8A1tpJ94Bv"
   },
   "outputs": [],
   "source": [
    "result=pd.concat([train,genres_encoded],axis=1)"
   ]
  },
  {
   "cell_type": "code",
   "execution_count": null,
   "metadata": {
    "id": "n6gTLp3J9wJd"
   },
   "outputs": [],
   "source": [
    "#commented code below works but is extremely slow and does everything by hand (last resort measure)"
   ]
  },
  {
   "cell_type": "code",
   "execution_count": null,
   "metadata": {
    "id": "Tt8PwBOI2y7Z"
   },
   "outputs": [],
   "source": [
    "#movies = pd.read_csv(\"/content/drive/MyDrive/CMPE256/256_project/potential_256_dataset.csv\")\n",
    "#movies = movies['genres']\n",
    "#genre_master=[]\n",
    "#for index,row in enumerate(movies):\n",
    "#    temp = str(row).split(',')\n",
    "#    for i in temp:\n",
    "#        if i not in genre_master:\n",
    "#            genre_master.append(i)"
   ]
  },
  {
   "cell_type": "code",
   "execution_count": null,
   "metadata": {
    "id": "S0S_Islr4Kpr"
   },
   "outputs": [],
   "source": [
    "#for i in genre_master:\n",
    "#    train[i]=False"
   ]
  },
  {
   "cell_type": "code",
   "execution_count": null,
   "metadata": {
    "id": "lYn-t_Ii4Tlo"
   },
   "outputs": [],
   "source": [
    "#train.info()"
   ]
  },
  {
   "cell_type": "code",
   "execution_count": null,
   "metadata": {
    "id": "RR1hkQvr4inI"
   },
   "outputs": [],
   "source": [
    "#for i in range(len(train)):\n",
    "#    temp = str(train.loc[i,'genres']).split(',')\n",
    "#    for j in temp:\n",
    "#        train.loc[i,j]=True\n",
    "#    del temp"
   ]
  },
  {
   "cell_type": "code",
   "execution_count": 9,
   "metadata": {
    "id": "7-lRMGKU4ZAM"
   },
   "outputs": [
    {
     "data": {
      "text/html": [
       "<div>\n",
       "<style scoped>\n",
       "    .dataframe tbody tr th:only-of-type {\n",
       "        vertical-align: middle;\n",
       "    }\n",
       "\n",
       "    .dataframe tbody tr th {\n",
       "        vertical-align: top;\n",
       "    }\n",
       "\n",
       "    .dataframe thead th {\n",
       "        text-align: right;\n",
       "    }\n",
       "</style>\n",
       "<table border=\"1\" class=\"dataframe\">\n",
       "  <thead>\n",
       "    <tr style=\"text-align: right;\">\n",
       "      <th></th>\n",
       "      <th>User_ID</th>\n",
       "      <th>Rating</th>\n",
       "      <th>Movie_ID</th>\n",
       "      <th>Year</th>\n",
       "      <th>isAdult</th>\n",
       "      <th>startYear</th>\n",
       "      <th>runtimeMinutes</th>\n",
       "      <th>genres</th>\n",
       "      <th>movie</th>\n",
       "      <th>short</th>\n",
       "      <th>...</th>\n",
       "      <th>News</th>\n",
       "      <th>Reality-TV</th>\n",
       "      <th>Romance</th>\n",
       "      <th>Sci-Fi</th>\n",
       "      <th>Short</th>\n",
       "      <th>Sport</th>\n",
       "      <th>Talk-Show</th>\n",
       "      <th>Thriller</th>\n",
       "      <th>War</th>\n",
       "      <th>Western</th>\n",
       "    </tr>\n",
       "  </thead>\n",
       "  <tbody>\n",
       "    <tr>\n",
       "      <th>0</th>\n",
       "      <td>712664</td>\n",
       "      <td>5</td>\n",
       "      <td>3</td>\n",
       "      <td>1997.0</td>\n",
       "      <td>False</td>\n",
       "      <td>1997.0</td>\n",
       "      <td>122.0</td>\n",
       "      <td>Crime,Drama,Mystery</td>\n",
       "      <td>True</td>\n",
       "      <td>False</td>\n",
       "      <td>...</td>\n",
       "      <td>0</td>\n",
       "      <td>0</td>\n",
       "      <td>0</td>\n",
       "      <td>0</td>\n",
       "      <td>0</td>\n",
       "      <td>0</td>\n",
       "      <td>0</td>\n",
       "      <td>0</td>\n",
       "      <td>0</td>\n",
       "      <td>0</td>\n",
       "    </tr>\n",
       "    <tr>\n",
       "      <th>1</th>\n",
       "      <td>1331154</td>\n",
       "      <td>4</td>\n",
       "      <td>3</td>\n",
       "      <td>1997.0</td>\n",
       "      <td>False</td>\n",
       "      <td>1997.0</td>\n",
       "      <td>122.0</td>\n",
       "      <td>Crime,Drama,Mystery</td>\n",
       "      <td>True</td>\n",
       "      <td>False</td>\n",
       "      <td>...</td>\n",
       "      <td>0</td>\n",
       "      <td>0</td>\n",
       "      <td>0</td>\n",
       "      <td>0</td>\n",
       "      <td>0</td>\n",
       "      <td>0</td>\n",
       "      <td>0</td>\n",
       "      <td>0</td>\n",
       "      <td>0</td>\n",
       "      <td>0</td>\n",
       "    </tr>\n",
       "    <tr>\n",
       "      <th>2</th>\n",
       "      <td>2632461</td>\n",
       "      <td>3</td>\n",
       "      <td>3</td>\n",
       "      <td>1997.0</td>\n",
       "      <td>False</td>\n",
       "      <td>1997.0</td>\n",
       "      <td>122.0</td>\n",
       "      <td>Crime,Drama,Mystery</td>\n",
       "      <td>True</td>\n",
       "      <td>False</td>\n",
       "      <td>...</td>\n",
       "      <td>0</td>\n",
       "      <td>0</td>\n",
       "      <td>0</td>\n",
       "      <td>0</td>\n",
       "      <td>0</td>\n",
       "      <td>0</td>\n",
       "      <td>0</td>\n",
       "      <td>0</td>\n",
       "      <td>0</td>\n",
       "      <td>0</td>\n",
       "    </tr>\n",
       "    <tr>\n",
       "      <th>3</th>\n",
       "      <td>44937</td>\n",
       "      <td>5</td>\n",
       "      <td>3</td>\n",
       "      <td>1997.0</td>\n",
       "      <td>False</td>\n",
       "      <td>1997.0</td>\n",
       "      <td>122.0</td>\n",
       "      <td>Crime,Drama,Mystery</td>\n",
       "      <td>True</td>\n",
       "      <td>False</td>\n",
       "      <td>...</td>\n",
       "      <td>0</td>\n",
       "      <td>0</td>\n",
       "      <td>0</td>\n",
       "      <td>0</td>\n",
       "      <td>0</td>\n",
       "      <td>0</td>\n",
       "      <td>0</td>\n",
       "      <td>0</td>\n",
       "      <td>0</td>\n",
       "      <td>0</td>\n",
       "    </tr>\n",
       "    <tr>\n",
       "      <th>4</th>\n",
       "      <td>656399</td>\n",
       "      <td>4</td>\n",
       "      <td>3</td>\n",
       "      <td>1997.0</td>\n",
       "      <td>False</td>\n",
       "      <td>1997.0</td>\n",
       "      <td>122.0</td>\n",
       "      <td>Crime,Drama,Mystery</td>\n",
       "      <td>True</td>\n",
       "      <td>False</td>\n",
       "      <td>...</td>\n",
       "      <td>0</td>\n",
       "      <td>0</td>\n",
       "      <td>0</td>\n",
       "      <td>0</td>\n",
       "      <td>0</td>\n",
       "      <td>0</td>\n",
       "      <td>0</td>\n",
       "      <td>0</td>\n",
       "      <td>0</td>\n",
       "      <td>0</td>\n",
       "    </tr>\n",
       "    <tr>\n",
       "      <th>...</th>\n",
       "      <td>...</td>\n",
       "      <td>...</td>\n",
       "      <td>...</td>\n",
       "      <td>...</td>\n",
       "      <td>...</td>\n",
       "      <td>...</td>\n",
       "      <td>...</td>\n",
       "      <td>...</td>\n",
       "      <td>...</td>\n",
       "      <td>...</td>\n",
       "      <td>...</td>\n",
       "      <td>...</td>\n",
       "      <td>...</td>\n",
       "      <td>...</td>\n",
       "      <td>...</td>\n",
       "      <td>...</td>\n",
       "      <td>...</td>\n",
       "      <td>...</td>\n",
       "      <td>...</td>\n",
       "      <td>...</td>\n",
       "      <td>...</td>\n",
       "    </tr>\n",
       "    <tr>\n",
       "      <th>20627683</th>\n",
       "      <td>520675</td>\n",
       "      <td>3</td>\n",
       "      <td>4496</td>\n",
       "      <td>1993.0</td>\n",
       "      <td>False</td>\n",
       "      <td>1993.0</td>\n",
       "      <td>171.0</td>\n",
       "      <td>Drama,Music,Romance</td>\n",
       "      <td>True</td>\n",
       "      <td>False</td>\n",
       "      <td>...</td>\n",
       "      <td>0</td>\n",
       "      <td>0</td>\n",
       "      <td>1</td>\n",
       "      <td>0</td>\n",
       "      <td>0</td>\n",
       "      <td>0</td>\n",
       "      <td>0</td>\n",
       "      <td>0</td>\n",
       "      <td>0</td>\n",
       "      <td>0</td>\n",
       "    </tr>\n",
       "    <tr>\n",
       "      <th>20627684</th>\n",
       "      <td>1055714</td>\n",
       "      <td>5</td>\n",
       "      <td>4496</td>\n",
       "      <td>1993.0</td>\n",
       "      <td>False</td>\n",
       "      <td>1993.0</td>\n",
       "      <td>171.0</td>\n",
       "      <td>Drama,Music,Romance</td>\n",
       "      <td>True</td>\n",
       "      <td>False</td>\n",
       "      <td>...</td>\n",
       "      <td>0</td>\n",
       "      <td>0</td>\n",
       "      <td>1</td>\n",
       "      <td>0</td>\n",
       "      <td>0</td>\n",
       "      <td>0</td>\n",
       "      <td>0</td>\n",
       "      <td>0</td>\n",
       "      <td>0</td>\n",
       "      <td>0</td>\n",
       "    </tr>\n",
       "    <tr>\n",
       "      <th>20627685</th>\n",
       "      <td>2643029</td>\n",
       "      <td>4</td>\n",
       "      <td>4496</td>\n",
       "      <td>1993.0</td>\n",
       "      <td>False</td>\n",
       "      <td>1993.0</td>\n",
       "      <td>171.0</td>\n",
       "      <td>Drama,Music,Romance</td>\n",
       "      <td>True</td>\n",
       "      <td>False</td>\n",
       "      <td>...</td>\n",
       "      <td>0</td>\n",
       "      <td>0</td>\n",
       "      <td>1</td>\n",
       "      <td>0</td>\n",
       "      <td>0</td>\n",
       "      <td>0</td>\n",
       "      <td>0</td>\n",
       "      <td>0</td>\n",
       "      <td>0</td>\n",
       "      <td>0</td>\n",
       "    </tr>\n",
       "    <tr>\n",
       "      <th>20627686</th>\n",
       "      <td>1559566</td>\n",
       "      <td>3</td>\n",
       "      <td>4496</td>\n",
       "      <td>1993.0</td>\n",
       "      <td>False</td>\n",
       "      <td>1993.0</td>\n",
       "      <td>171.0</td>\n",
       "      <td>Drama,Music,Romance</td>\n",
       "      <td>True</td>\n",
       "      <td>False</td>\n",
       "      <td>...</td>\n",
       "      <td>0</td>\n",
       "      <td>0</td>\n",
       "      <td>1</td>\n",
       "      <td>0</td>\n",
       "      <td>0</td>\n",
       "      <td>0</td>\n",
       "      <td>0</td>\n",
       "      <td>0</td>\n",
       "      <td>0</td>\n",
       "      <td>0</td>\n",
       "    </tr>\n",
       "    <tr>\n",
       "      <th>20627687</th>\n",
       "      <td>293198</td>\n",
       "      <td>3</td>\n",
       "      <td>4496</td>\n",
       "      <td>1993.0</td>\n",
       "      <td>False</td>\n",
       "      <td>1993.0</td>\n",
       "      <td>171.0</td>\n",
       "      <td>Drama,Music,Romance</td>\n",
       "      <td>True</td>\n",
       "      <td>False</td>\n",
       "      <td>...</td>\n",
       "      <td>0</td>\n",
       "      <td>0</td>\n",
       "      <td>1</td>\n",
       "      <td>0</td>\n",
       "      <td>0</td>\n",
       "      <td>0</td>\n",
       "      <td>0</td>\n",
       "      <td>0</td>\n",
       "      <td>0</td>\n",
       "      <td>0</td>\n",
       "    </tr>\n",
       "  </tbody>\n",
       "</table>\n",
       "<p>20627688 rows × 43 columns</p>\n",
       "</div>"
      ],
      "text/plain": [
       "          User_ID  Rating  Movie_ID    Year  isAdult  startYear  \\\n",
       "0          712664       5         3  1997.0    False     1997.0   \n",
       "1         1331154       4         3  1997.0    False     1997.0   \n",
       "2         2632461       3         3  1997.0    False     1997.0   \n",
       "3           44937       5         3  1997.0    False     1997.0   \n",
       "4          656399       4         3  1997.0    False     1997.0   \n",
       "...           ...     ...       ...     ...      ...        ...   \n",
       "20627683   520675       3      4496  1993.0    False     1993.0   \n",
       "20627684  1055714       5      4496  1993.0    False     1993.0   \n",
       "20627685  2643029       4      4496  1993.0    False     1993.0   \n",
       "20627686  1559566       3      4496  1993.0    False     1993.0   \n",
       "20627687   293198       3      4496  1993.0    False     1993.0   \n",
       "\n",
       "          runtimeMinutes               genres  movie  short  ...  News  \\\n",
       "0                  122.0  Crime,Drama,Mystery   True  False  ...     0   \n",
       "1                  122.0  Crime,Drama,Mystery   True  False  ...     0   \n",
       "2                  122.0  Crime,Drama,Mystery   True  False  ...     0   \n",
       "3                  122.0  Crime,Drama,Mystery   True  False  ...     0   \n",
       "4                  122.0  Crime,Drama,Mystery   True  False  ...     0   \n",
       "...                  ...                  ...    ...    ...  ...   ...   \n",
       "20627683           171.0  Drama,Music,Romance   True  False  ...     0   \n",
       "20627684           171.0  Drama,Music,Romance   True  False  ...     0   \n",
       "20627685           171.0  Drama,Music,Romance   True  False  ...     0   \n",
       "20627686           171.0  Drama,Music,Romance   True  False  ...     0   \n",
       "20627687           171.0  Drama,Music,Romance   True  False  ...     0   \n",
       "\n",
       "          Reality-TV  Romance  Sci-Fi  Short  Sport  Talk-Show  Thriller  War  \\\n",
       "0                  0        0       0      0      0          0         0    0   \n",
       "1                  0        0       0      0      0          0         0    0   \n",
       "2                  0        0       0      0      0          0         0    0   \n",
       "3                  0        0       0      0      0          0         0    0   \n",
       "4                  0        0       0      0      0          0         0    0   \n",
       "...              ...      ...     ...    ...    ...        ...       ...  ...   \n",
       "20627683           0        1       0      0      0          0         0    0   \n",
       "20627684           0        1       0      0      0          0         0    0   \n",
       "20627685           0        1       0      0      0          0         0    0   \n",
       "20627686           0        1       0      0      0          0         0    0   \n",
       "20627687           0        1       0      0      0          0         0    0   \n",
       "\n",
       "          Western  \n",
       "0               0  \n",
       "1               0  \n",
       "2               0  \n",
       "3               0  \n",
       "4               0  \n",
       "...           ...  \n",
       "20627683        0  \n",
       "20627684        0  \n",
       "20627685        0  \n",
       "20627686        0  \n",
       "20627687        0  \n",
       "\n",
       "[20627688 rows x 43 columns]"
      ]
     },
     "execution_count": 9,
     "metadata": {},
     "output_type": "execute_result"
    }
   ],
   "source": [
    "result"
   ]
  },
  {
   "cell_type": "code",
   "execution_count": 14,
   "metadata": {},
   "outputs": [
    {
     "data": {
      "text/plain": [
       "Index(['User_ID', 'Rating', 'Movie_ID', 'Year', 'isAdult', 'startYear',\n",
       "       'runtimeMinutes', 'genres', 'movie', 'short', 'tvEpisode',\n",
       "       'tvMiniSeries', 'tvMovie', 'tvSeries', 'tvSpecial', 'video', 'Action',\n",
       "       'Adult', 'Adventure', 'Animation', 'Biography', 'Comedy', 'Crime',\n",
       "       'Documentary', 'Drama', 'Family', 'Fantasy', 'Film-Noir', 'History',\n",
       "       'Horror', 'Music', 'Musical', 'Mystery', 'News', 'Reality-TV',\n",
       "       'Romance', 'Sci-Fi', 'Short', 'Sport', 'Talk-Show', 'Thriller', 'War',\n",
       "       'Western'],\n",
       "      dtype='object')"
      ]
     },
     "execution_count": 14,
     "metadata": {},
     "output_type": "execute_result"
    }
   ],
   "source": [
    "result.columns"
   ]
  },
  {
   "cell_type": "code",
   "execution_count": 41,
   "metadata": {},
   "outputs": [],
   "source": [
    "result['Western'] = result['Western'].astype('bool')"
   ]
  },
  {
   "cell_type": "code",
   "execution_count": 44,
   "metadata": {},
   "outputs": [
    {
     "name": "stdout",
     "output_type": "stream",
     "text": [
      "<class 'pandas.core.frame.DataFrame'>\n",
      "RangeIndex: 20627688 entries, 0 to 20627687\n",
      "Data columns (total 42 columns):\n",
      " #   Column          Dtype  \n",
      "---  ------          -----  \n",
      " 0   User_ID         int64  \n",
      " 1   Rating          int64  \n",
      " 2   Movie_ID        int64  \n",
      " 3   Year            float64\n",
      " 4   isAdult         bool   \n",
      " 5   startYear       float64\n",
      " 6   runtimeMinutes  float64\n",
      " 7   movie           bool   \n",
      " 8   short           bool   \n",
      " 9   tvEpisode       bool   \n",
      " 10  tvMiniSeries    bool   \n",
      " 11  tvMovie         bool   \n",
      " 12  tvSeries        bool   \n",
      " 13  tvSpecial       bool   \n",
      " 14  video           bool   \n",
      " 15  Action          bool   \n",
      " 16  Adult           bool   \n",
      " 17  Adventure       bool   \n",
      " 18  Animation       bool   \n",
      " 19  Biography       bool   \n",
      " 20  Comedy          bool   \n",
      " 21  Crime           bool   \n",
      " 22  Documentary     bool   \n",
      " 23  Drama           bool   \n",
      " 24  Family          bool   \n",
      " 25  Fantasy         bool   \n",
      " 26  Film-Noir       bool   \n",
      " 27  History         bool   \n",
      " 28  Horror          bool   \n",
      " 29  Music           bool   \n",
      " 30  Musical         bool   \n",
      " 31  Mystery         bool   \n",
      " 32  News            bool   \n",
      " 33  Reality-TV      bool   \n",
      " 34  Romance         bool   \n",
      " 35  Sci-Fi          bool   \n",
      " 36  Short           bool   \n",
      " 37  Sport           bool   \n",
      " 38  Talk-Show       bool   \n",
      " 39  Thriller        bool   \n",
      " 40  War             bool   \n",
      " 41  Western         bool   \n",
      "dtypes: bool(36), float64(3), int64(3)\n",
      "memory usage: 1.6 GB\n"
     ]
    }
   ],
   "source": [
    "result.info()"
   ]
  },
  {
   "cell_type": "code",
   "execution_count": 43,
   "metadata": {},
   "outputs": [],
   "source": [
    "result=result.drop(columns=['genres'])"
   ]
  },
  {
   "cell_type": "code",
   "execution_count": 45,
   "metadata": {
    "id": "PjIIkXI55xXe"
   },
   "outputs": [],
   "source": [
    "result.to_csv('train3.csv',index=False)"
   ]
  },
  {
   "cell_type": "code",
   "execution_count": null,
   "metadata": {},
   "outputs": [],
   "source": []
  }
 ],
 "metadata": {
  "colab": {
   "provenance": []
  },
  "kernelspec": {
   "display_name": "Python 3 (ipykernel)",
   "language": "python",
   "name": "python3"
  },
  "language_info": {
   "codemirror_mode": {
    "name": "ipython",
    "version": 3
   },
   "file_extension": ".py",
   "mimetype": "text/x-python",
   "name": "python",
   "nbconvert_exporter": "python",
   "pygments_lexer": "ipython3",
   "version": "3.11.4"
  }
 },
 "nbformat": 4,
 "nbformat_minor": 4
}
